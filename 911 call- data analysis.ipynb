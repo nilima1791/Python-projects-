{
 "cells": [
  {
   "cell_type": "code",
   "execution_count": 5,
   "metadata": {},
   "outputs": [],
   "source": [
    "import numpy as np\n",
    "import pandas as pd \n",
    "import matplotlib.pyplot as plt\n",
    "import seaborn as sns\n",
    "import os\n",
    "%matplotlib inline"
   ]
  },
  {
   "cell_type": "code",
   "execution_count": 6,
   "metadata": {},
   "outputs": [
    {
     "name": "stdout",
     "output_type": "stream",
     "text": [
      "['.ipynb_checkpoints', '00-Welcome to the Course.ipynb', '01-Python-Crash-Course', '02-Python-for-Data-Analysis-NumPy', '03-Python-for-Data-Analysis-Pandas', '04-Pandas-Exercises', '05-Data-Visualization-with-Matplotlib', '06-Data-Visualization-with-Seaborn', '07-Pandas-Built-in-Data-Viz', '08-Plotly-and-Cufflinks', '09-Geographical-Plotting', '10-Data-Capstone-Projects', '11-Linear-Regression', '13-Logistic-Regression', '14-K-Nearest-Neighbors', '15-Decision-Trees-and-Random-Forests', '16-Support-Vector-Machines', '17-K-Means-Clustering', '18-Principal-Component-Analysis', '19-Recommender-Systems', '20-Natural-Language-Processing', '21-Big-Data-and-Spark', '22-Deep Learning', '23-EXTRA-NOTES-SciPy', 'Pierian_Data_Logo.png', 'README.md', 'Untitled.ipynb']\n"
     ]
    }
   ],
   "source": [
    "print(os.listdir())"
   ]
  },
  {
   "cell_type": "code",
   "execution_count": 8,
   "metadata": {},
   "outputs": [
    {
     "data": {
      "text/plain": [
       "'C:\\\\Users\\\\Admin\\\\Downloads\\\\Refactored_Py_DS_ML_Bootcamp-master'"
      ]
     },
     "execution_count": 8,
     "metadata": {},
     "output_type": "execute_result"
    }
   ],
   "source": [
    "os.getcwd()"
   ]
  },
  {
   "cell_type": "code",
   "execution_count": 9,
   "metadata": {},
   "outputs": [],
   "source": [
    "os.chdir('D:\\\\python\\\\data')"
   ]
  },
  {
   "cell_type": "code",
   "execution_count": 10,
   "metadata": {},
   "outputs": [
    {
     "data": {
      "text/plain": [
       "'D:\\\\python\\\\data'"
      ]
     },
     "execution_count": 10,
     "metadata": {},
     "output_type": "execute_result"
    }
   ],
   "source": [
    "os.getcwd()"
   ]
  },
  {
   "cell_type": "code",
   "execution_count": 12,
   "metadata": {},
   "outputs": [
    {
     "data": {
      "text/plain": [
       "['911.csv',\n",
       " 'customerchurn data.xlsx',\n",
       " 'iris.data.txt',\n",
       " 'uber-raw-data-apr14.csv']"
      ]
     },
     "execution_count": 12,
     "metadata": {},
     "output_type": "execute_result"
    }
   ],
   "source": [
    "os.listdir()"
   ]
  },
  {
   "cell_type": "code",
   "execution_count": 13,
   "metadata": {},
   "outputs": [],
   "source": [
    "df= pd.read_csv('911.csv')"
   ]
  },
  {
   "cell_type": "code",
   "execution_count": null,
   "metadata": {},
   "outputs": [],
   "source": []
  }
 ],
 "metadata": {
  "kernelspec": {
   "display_name": "Python 3",
   "language": "python",
   "name": "python3"
  },
  "language_info": {
   "codemirror_mode": {
    "name": "ipython",
    "version": 3
   },
   "file_extension": ".py",
   "mimetype": "text/x-python",
   "name": "python",
   "nbconvert_exporter": "python",
   "pygments_lexer": "ipython3",
   "version": "3.7.4"
  }
 },
 "nbformat": 4,
 "nbformat_minor": 2
}
